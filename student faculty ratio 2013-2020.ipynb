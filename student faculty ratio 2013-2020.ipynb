{
 "cells": [
  {
   "cell_type": "markdown",
   "metadata": {},
   "source": [
    "#students in that discipline : # faculty in the discipline\n",
    "student data: https://www.wellesley.edu/oir/factbook/fall-enrollment-detail"
   ]
  },
  {
   "cell_type": "markdown",
   "metadata": {},
   "source": [
    "! pip install google-cloud\n",
    "! pip install google-cloud-storage\n",
    "! pip install google-cloud-vision"
   ]
  },
  {
   "cell_type": "code",
   "execution_count": 72,
   "metadata": {},
   "outputs": [],
   "source": [
    "import os\n",
    "import re\n",
    "import json\n",
    "import pandas as pd\n",
    "from google.cloud import vision\n",
    "from google.cloud import storage\n",
    "from google.protobuf import json_format\n",
    "# Supported mime_types are: 'application/pdf' and 'image/tiff'\n",
    "mime_type = 'application/pdf'\n"
   ]
  },
  {
   "cell_type": "code",
   "execution_count": 86,
   "metadata": {},
   "outputs": [],
   "source": [
    "# How many pages should be grouped into each json output file.\n",
    "batch_size = 2\n",
    "\n",
    "os.environ['GOOGLE_APPLICATION_CREDENTIALS'] = r\"C:\\Users\\abguh\\Desktop\\wdc\\student-faculty-ratio-542887f8ebad.json\"\n",
    "client = vision.ImageAnnotatorClient()"
   ]
  },
  {
   "cell_type": "code",
   "execution_count": 87,
   "metadata": {},
   "outputs": [],
   "source": [
    "feature = vision.Feature(\n",
    "    type_=vision.Feature.Type.DOCUMENT_TEXT_DETECTION)\n",
    "\n",
    "gcs_source = vision.GcsSource(uri='gs://bucket_777/Fall enrollment by major.pdf')\n",
    "gcs_source = vision.GcsSource(uri=gcs_source_uri)\n",
    "input_config = vision.InputConfig(\n",
    "    gcs_source=gcs_source, mime_type=mime_type)"
   ]
  },
  {
   "cell_type": "code",
   "execution_count": 88,
   "metadata": {},
   "outputs": [],
   "source": [
    "gcs_destination_uri='gs://bucket_777/enrollment_major_data '\n",
    "gcs_destination = vision.GcsDestination(uri=gcs_destination_uri)\n",
    "output_config = vision.OutputConfig(\n",
    "    gcs_destination=gcs_destination, batch_size=batch_size)\n"
   ]
  },
  {
   "cell_type": "code",
   "execution_count": 89,
   "metadata": {},
   "outputs": [],
   "source": [
    "async_request = vision.AsyncAnnotateFileRequest(\n",
    "    features=[feature], input_config=input_config,\n",
    "    output_config=output_config)\n",
    "\n",
    "operation = client.async_batch_annotate_files(\n",
    "    requests=[async_request])\n"
   ]
  },
  {
   "cell_type": "code",
   "execution_count": 90,
   "metadata": {},
   "outputs": [
    {
     "name": "stdout",
     "output_type": "stream",
     "text": [
      "Waiting for the operation to finish.\n"
     ]
    }
   ],
   "source": [
    "print('Waiting for the operation to finish.')\n",
    "operation.result(timeout=180)\n",
    "\n",
    "# Once the request has completed and the output has been\n",
    "# written to GCS, we can list all the output files.\n",
    "storage_client = storage.Client()\n"
   ]
  },
  {
   "cell_type": "code",
   "execution_count": 91,
   "metadata": {},
   "outputs": [],
   "source": [
    "match = re.match(r'gs://([^/]+)/(.+)', gcs_destination_uri)\n",
    "bucket_name = match.group(1)\n",
    "prefix = match.group(2)\n",
    "\n",
    "bucket = storage_client.get_bucket(bucket_name)\n"
   ]
  },
  {
   "cell_type": "code",
   "execution_count": 92,
   "metadata": {},
   "outputs": [
    {
     "name": "stdout",
     "output_type": "stream",
     "text": [
      "Output files:\n",
      "enrollment_major_data output-1-to-2.json\n"
     ]
    }
   ],
   "source": [
    "# List objects with the given prefix.\n",
    "blob_list = list(bucket.list_blobs(prefix=prefix))\n",
    "print('Output files:')\n",
    "for blob in blob_list:\n",
    "    print(blob.name)\n"
   ]
  },
  {
   "cell_type": "code",
   "execution_count": 124,
   "metadata": {},
   "outputs": [
    {
     "name": "stdout",
     "output_type": "stream",
     "text": [
      "dict_keys(['pages', 'text'])\n"
     ]
    }
   ],
   "source": [
    "# Process the first output file from GCS.\n",
    "# Since we specified batch_size=2, the first response contains\n",
    "# the first two pages of the input file.\n",
    "output = blob_list[0]\n",
    "\n",
    "json_string = output.download_as_string()\n",
    "response = json.loads(json_string)\n",
    "print(responses[1]['fullTextAnnotation'].keys())"
   ]
  },
  {
   "cell_type": "code",
   "execution_count": 112,
   "metadata": {},
   "outputs": [
    {
     "name": "stdout",
     "output_type": "stream",
     "text": [
      "dict_keys(['fullTextAnnotation', 'context'])\n"
     ]
    }
   ],
   "source": [
    "print(responses[0].keys())"
   ]
  },
  {
   "cell_type": "code",
   "execution_count": 125,
   "metadata": {},
   "outputs": [
    {
     "name": "stdout",
     "output_type": "stream",
     "text": [
      "Done!\n"
     ]
    }
   ],
   "source": [
    "for i in range(2):\n",
    "    annotation = responses[i]['fullTextAnnotation']['text']\n",
    "    f = open('[Result txt file name].txt','a')\n",
    "    f.write(annotation + '\\n')\n",
    "    f.close()\n",
    "    \n",
    "print(\"Done!\")\n"
   ]
  },
  {
   "cell_type": "code",
   "execution_count": 102,
   "metadata": {},
   "outputs": [
    {
     "ename": "KeyError",
     "evalue": "'fullTextAnnnotation'",
     "output_type": "error",
     "traceback": [
      "\u001b[1;31m---------------------------------------------------------------------------\u001b[0m",
      "\u001b[1;31mKeyError\u001b[0m                                  Traceback (most recent call last)",
      "\u001b[1;32m<ipython-input-102-641db754d754>\u001b[0m in \u001b[0;36m<module>\u001b[1;34m\u001b[0m\n\u001b[0;32m      2\u001b[0m \u001b[0msecond_page_response\u001b[0m \u001b[1;33m=\u001b[0m \u001b[0mresponse\u001b[0m\u001b[1;33m[\u001b[0m\u001b[1;34m'responses'\u001b[0m\u001b[1;33m]\u001b[0m\u001b[1;33m[\u001b[0m\u001b[1;36m1\u001b[0m\u001b[1;33m]\u001b[0m\u001b[1;33m\u001b[0m\u001b[1;33m\u001b[0m\u001b[0m\n\u001b[0;32m      3\u001b[0m \u001b[0mannotation1\u001b[0m \u001b[1;33m=\u001b[0m \u001b[0mfirst_page_response\u001b[0m\u001b[1;33m[\u001b[0m\u001b[1;34m'fullTextAnnotation'\u001b[0m\u001b[1;33m]\u001b[0m\u001b[1;33m\u001b[0m\u001b[1;33m\u001b[0m\u001b[0m\n\u001b[1;32m----> 4\u001b[1;33m \u001b[0mannotation2\u001b[0m \u001b[1;33m=\u001b[0m \u001b[0msecond_page_response\u001b[0m\u001b[1;33m[\u001b[0m\u001b[1;34m'fullTextAnnnotation'\u001b[0m\u001b[1;33m]\u001b[0m\u001b[1;33m\u001b[0m\u001b[1;33m\u001b[0m\u001b[0m\n\u001b[0m\u001b[0;32m      5\u001b[0m \u001b[1;31m# Here we print the full text from the first page.\u001b[0m\u001b[1;33m\u001b[0m\u001b[1;33m\u001b[0m\u001b[1;33m\u001b[0m\u001b[0m\n\u001b[0;32m      6\u001b[0m \u001b[1;31m# The response contains more information:\u001b[0m\u001b[1;33m\u001b[0m\u001b[1;33m\u001b[0m\u001b[1;33m\u001b[0m\u001b[0m\n",
      "\u001b[1;31mKeyError\u001b[0m: 'fullTextAnnnotation'"
     ]
    }
   ],
   "source": [
    "first_page_response = response['responses'][0]\n",
    "second_page_response = response['responses'][1]\n",
    "annotation1 = first_page_response['fullTextAnnotation'] \n",
    "annotation2 = second_page_response['fullTextAnnnotation']\n",
    "# Here we print the full text from the first page.\n",
    "# The response contains more information:\n",
    "# annotation/pages/blocks/paragraphs/words/symbols\n",
    "# including confidence scores and bounding boxes\n",
    "text = annotation1['text'] + annotation2['text']\n",
    "print(text)"
   ]
  },
  {
   "cell_type": "code",
   "execution_count": 85,
   "metadata": {},
   "outputs": [
    {
     "data": {
      "text/plain": [
       "['Grand',\n",
       " 'Total',\n",
       " 'Undeclared',\n",
       " 'Economics',\n",
       " 'Psychology',\n",
       " 'Political',\n",
       " 'Science',\n",
       " 'Biological',\n",
       " 'Sciences',\n",
       " 'English',\n",
       " 'Computer',\n",
       " 'Science',\n",
       " 'Neuroscience',\n",
       " 'Mathematics',\n",
       " 'International',\n",
       " 'Relations',\n",
       " 'Spanish',\n",
       " 'History',\n",
       " 'French',\n",
       " 'Art',\n",
       " 'History',\n",
       " 'Chemistry',\n",
       " 'Environmental',\n",
       " 'Studies',\n",
       " \"Women's\",\n",
       " 'Studies',\n",
       " 'Media',\n",
       " 'Arts',\n",
       " 'and',\n",
       " 'Sciences',\n",
       " 'Biochemistry',\n",
       " '&',\n",
       " 'Biological',\n",
       " '..',\n",
       " 'Anthropology',\n",
       " 'Philosophy',\n",
       " 'Sociology',\n",
       " 'American',\n",
       " 'Studies',\n",
       " 'Cognitive&Linguistic',\n",
       " 'Scie..',\n",
       " 'Peace',\n",
       " 'and',\n",
       " 'Justice',\n",
       " 'Studies',\n",
       " 'Cinema',\n",
       " 'and',\n",
       " 'Media',\n",
       " 'Studies',\n",
       " 'Physics',\n",
       " 'Architecture',\n",
       " 'English',\n",
       " 'and',\n",
       " 'Creative',\n",
       " 'Writi..',\n",
       " 'East',\n",
       " 'Asian',\n",
       " 'Studies',\n",
       " 'Classical',\n",
       " 'Civilization',\n",
       " 'Geosciences',\n",
       " 'Music',\n",
       " 'Art',\n",
       " 'Studio',\n",
       " 'Religion',\n",
       " 'Middle',\n",
       " 'Eastern',\n",
       " 'Studies',\n",
       " 'Theatre',\n",
       " 'Studies',\n",
       " 'Japanese',\n",
       " 'Language',\n",
       " '&',\n",
       " 'Cul..',\n",
       " 'Africana',\n",
       " 'Studies',\n",
       " 'Chinese',\n",
       " 'Language',\n",
       " '&',\n",
       " 'Cultu..',\n",
       " 'Comparative',\n",
       " 'Literature',\n",
       " 'Italian',\n",
       " 'Studies',\n",
       " 'Astrophysics',\n",
       " 'Classics',\n",
       " 'German',\n",
       " 'Studies',\n",
       " 'Latin',\n",
       " 'American',\n",
       " 'Studies',\n",
       " 'Individualized',\n",
       " 'majors',\n",
       " 'Chinese',\n",
       " 'Language',\n",
       " '&',\n",
       " '']"
      ]
     },
     "execution_count": 85,
     "metadata": {},
     "output_type": "execute_result"
    }
   ],
   "source": [
    "columns = text[:49].split(\" \")\n",
    "majors = text[50:text.find('Liter..')].split(\" \")\n",
    "majors"
   ]
  },
  {
   "cell_type": "code",
   "execution_count": null,
   "metadata": {},
   "outputs": [],
   "source": []
  }
 ],
 "metadata": {
  "kernelspec": {
   "display_name": "Python 3",
   "language": "python",
   "name": "python3"
  },
  "language_info": {
   "codemirror_mode": {
    "name": "ipython",
    "version": 3
   },
   "file_extension": ".py",
   "mimetype": "text/x-python",
   "name": "python",
   "nbconvert_exporter": "python",
   "pygments_lexer": "ipython3",
   "version": "3.7.6"
  }
 },
 "nbformat": 4,
 "nbformat_minor": 4
}
